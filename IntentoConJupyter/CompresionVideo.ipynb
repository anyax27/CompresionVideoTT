{
 "cells": [
  {
   "cell_type": "markdown",
   "id": "2a4e3f4b",
   "metadata": {},
   "source": [
    "📝 Compresión de video MP4 usando H.264 en Python\n",
    "Este cuaderno permite:\n",
    "\n",
    "Seleccionar un archivo .mp4\n",
    "\n",
    "Verificar su formato y duración (máximo 30 segundos)\n",
    "\n",
    "Mostrar sus metadatos\n",
    "\n",
    "Comprimirlo usando el códec H.264\n",
    "\n",
    "Medir el tiempo de compresión\n",
    "\n",
    "Comparar tamaño original y comprimido\n",
    "\n",
    "Requisitos:\n",
    "\n",
    "Python 3.x\n",
    "\n",
    "FFmpeg instalado y agregado a las variables de entorno (PATH)\n",
    "\n"
   ]
  },
  {
   "cell_type": "markdown",
   "id": "24d1b963",
   "metadata": {},
   "source": [
    "📦 Instalación previa de librerías"
   ]
  },
  {
   "cell_type": "code",
   "execution_count": 1,
   "id": "c4d649ee",
   "metadata": {},
   "outputs": [
    {
     "name": "stdout",
     "output_type": "stream",
     "text": [
      "Requirement already satisfied: numpy in c:\\users\\anyax\\appdata\\local\\programs\\python\\python313\\lib\\site-packages (1.26.4)\n",
      "Note: you may need to restart the kernel to use updated packages.\n"
     ]
    },
    {
     "name": "stderr",
     "output_type": "stream",
     "text": [
      "\n",
      "[notice] A new release of pip is available: 24.3.1 -> 25.1\n",
      "[notice] To update, run: python.exe -m pip install --upgrade pip\n"
     ]
    }
   ],
   "source": [
    "%pip install numpy"
   ]
  },
  {
   "cell_type": "markdown",
   "id": "74652b4c",
   "metadata": {},
   "source": [
    "🔧 Configuración de parámetros\n",
    "Aquí puedes ajustar los parámetros de compresión."
   ]
  },
  {
   "cell_type": "code",
   "execution_count": 2,
   "id": "f2b975a3",
   "metadata": {},
   "outputs": [],
   "source": [
    "# Duración máxima permitida en segundos\n",
    "MAX_DURACION = 30.0\n",
    "\n",
    "# Parámetros de compresión H.264\n",
    "FFMPEG_PRESET = 'slow'  # opciones: ultrafast, superfast, veryfast, faster, fast, medium, slow, slower, veryslow\n",
    "FFMPEG_CRF = '28'       # calidad CRF: 0 (sin pérdida) a 51 (muy baja calidad). Comúnmente se usa entre 18-28\n"
   ]
  },
  {
   "cell_type": "markdown",
   "id": "2c3cf7ed",
   "metadata": {},
   "source": []
  },
  {
   "cell_type": "code",
   "execution_count": 3,
   "id": "f3581682",
   "metadata": {},
   "outputs": [],
   "source": [
    "import tkinter as tk\n",
    "from tkinter import filedialog\n",
    "import os\n",
    "\n",
    "def seleccionar_archivo_mp4():\n",
    "    \"\"\"\n",
    "    Abre diálogo para seleccionar un archivo y devuelve la ruta.\n",
    "    \"\"\"\n",
    "    root = tk.Tk()\n",
    "    root.withdraw()\n",
    "    tipos = [(\"Archivos MP4\", \"*.mp4\"), (\"Todos los archivos\", \"*\")]\n",
    "    ruta = filedialog.askopenfilename(title=\"Seleccione un archivo MP4\", filetypes=tipos)\n",
    "    return ruta\n"
   ]
  },
  {
   "cell_type": "code",
   "execution_count": 4,
   "id": "dd73f6c2",
   "metadata": {},
   "outputs": [],
   "source": [
    "import subprocess\n",
    "import json\n",
    "import sys\n",
    "\n",
    "def obtener_metadatos_ffprobe(ruta):\n",
    "    \"\"\"\n",
    "    Obtiene metadatos del video usando ffprobe en formato JSON.\n",
    "    Retorna diccionario con 'format_name', 'duration' (float), y 'size' (bytes).\n",
    "    \"\"\"\n",
    "    cmd = [\n",
    "        'ffprobe', '-v', 'error',\n",
    "        '-print_format', 'json',\n",
    "        '-show_format',\n",
    "        '-show_streams',\n",
    "        ruta\n",
    "    ]\n",
    "    try:\n",
    "        resultado = subprocess.run(cmd, capture_output=True, text=True, check=True)\n",
    "    except FileNotFoundError:\n",
    "        print(\"Error: ffprobe no encontrado. Asegúrate de tener FFmpeg instalado y en el PATH.\")\n",
    "        sys.exit(1)\n",
    "    except subprocess.CalledProcessError as e:\n",
    "        print(f\"Error al ejecutar ffprobe: {e.stderr}\")\n",
    "        sys.exit(1)\n",
    "\n",
    "    info = json.loads(resultado.stdout)\n",
    "    fmt = info.get('format', {})\n",
    "    return {\n",
    "        'format_name': fmt.get('format_name', 'desconocido'),\n",
    "        'duration': float(fmt.get('duration', 0.0)),\n",
    "        'size': int(fmt.get('size', 0))\n",
    "    }\n"
   ]
  },
  {
   "cell_type": "code",
   "execution_count": 5,
   "id": "e2d7e855",
   "metadata": {},
   "outputs": [],
   "source": [
    "def comprimir_h264(input_path, output_path):\n",
    "    \"\"\"\n",
    "    Comprime el video de entrada usando H.264 con ffmpeg y guarda en output_path.\n",
    "    Usa CRF y preset definidos anteriormente.\n",
    "    \"\"\"\n",
    "    cmd = [\n",
    "        'ffmpeg', '-y',\n",
    "        '-i', input_path,\n",
    "        '-c:v', 'libx264',\n",
    "        '-preset', FFMPEG_PRESET,\n",
    "        '-crf', FFMPEG_CRF,\n",
    "        '-c:a', 'copy',   # Copiar el audio sin recomprimir\n",
    "        output_path\n",
    "    ]\n",
    "    try:\n",
    "        subprocess.run(cmd, check=True, capture_output=True, text=True)\n",
    "    except FileNotFoundError:\n",
    "        print(\"Error: ffmpeg no encontrado. Asegúrate de tener FFmpeg instalado y en el PATH.\")\n",
    "        sys.exit(1)\n",
    "    except subprocess.CalledProcessError as e:\n",
    "        print(f\"Error al comprimir video: {e.stderr}\")\n",
    "        sys.exit(1)\n"
   ]
  },
  {
   "cell_type": "code",
   "execution_count": 6,
   "id": "9a19b0ab",
   "metadata": {},
   "outputs": [],
   "source": [
    "import mimetypes\n",
    "import time\n",
    "\n",
    "def main():\n",
    "    archivo = seleccionar_archivo_mp4()\n",
    "    if not archivo:\n",
    "        print(\"No se seleccionó ningún archivo.\")\n",
    "        return\n",
    "\n",
    "    # Verificar extensión .mp4\n",
    "    base, ext = os.path.splitext(archivo)\n",
    "    if ext.lower() != '.mp4':\n",
    "        print(\"Formato incorrecto: debe ser un archivo .mp4.\")\n",
    "        return\n",
    "\n",
    "    # Metadatos originales\n",
    "    datos_orig = obtener_metadatos_ffprobe(archivo)\n",
    "    dur = datos_orig['duration']\n",
    "    if dur > MAX_DURACION:\n",
    "        print(f\"Duración: {dur:.2f}s. Excede el límite de {MAX_DURACION:.0f}s.\")\n",
    "        return\n",
    "    size_orig_mb = datos_orig['size'] / (1024 * 1024)\n",
    "\n",
    "    # Mostrar metadatos originales\n",
    "    mime, _ = mimetypes.guess_type(archivo)\n",
    "    print(\"\\n=== Metadatos antes de comprimir ===\")\n",
    "    print(f\"Duración      : {dur:.2f} segundos\")\n",
    "    print(f\"Tamaño        : {size_orig_mb:.2f} MB\")\n",
    "    print(f\"Formato       : {datos_orig['format_name']}\")\n",
    "    print(f\"Tipo MIME     : {mime or 'desconocido'}\")\n",
    "\n",
    "    # Ruta de salida\n",
    "    ruta_salida = f\"{base}_compressed.mp4\"\n",
    "\n",
    "    # Comprimir video y medir tiempo\n",
    "    print(\"\\nComprimiendo video con H.264... Esto puede tardar unos segundos.\")\n",
    "    inicio = time.time()\n",
    "    comprimir_h264(archivo, ruta_salida)\n",
    "    fin = time.time()\n",
    "    tiempo_comp = fin - inicio\n",
    "\n",
    "    # Metadatos comprimidos\n",
    "    datos_comp = obtener_metadatos_ffprobe(ruta_salida)\n",
    "    size_comp_mb = datos_comp['size'] / (1024 * 1024)\n",
    "\n",
    "    # Mostrar comparación\n",
    "    print(\"\\n=== Resultado de la compresión ===\")\n",
    "    print(f\"Archivo comprimido: {ruta_salida}\")\n",
    "    print(f\"Tamaño original   : {size_orig_mb:.2f} MB\")\n",
    "    print(f\"Tamaño comprimido : {size_comp_mb:.2f} MB\")\n",
    "    reduccion = size_orig_mb - size_comp_mb\n",
    "    porcentaje = (reduccion / size_orig_mb * 100) if size_orig_mb > 0 else 0\n",
    "    print(f\"Reducción         : {reduccion:.2f} MB ({porcentaje:.1f}%)\")\n",
    "    print(f\"Tiempo de compresión : {tiempo_comp:.2f} segundos\")\n"
   ]
  },
  {
   "cell_type": "code",
   "execution_count": null,
   "id": "c31a7d17",
   "metadata": {},
   "outputs": [],
   "source": [
    "main()\n"
   ]
  }
 ],
 "metadata": {
  "kernelspec": {
   "display_name": "Python 3",
   "language": "python",
   "name": "python3"
  },
  "language_info": {
   "codemirror_mode": {
    "name": "ipython",
    "version": 3
   },
   "file_extension": ".py",
   "mimetype": "text/x-python",
   "name": "python",
   "nbconvert_exporter": "python",
   "pygments_lexer": "ipython3",
   "version": "3.13.2"
  }
 },
 "nbformat": 4,
 "nbformat_minor": 5
}
