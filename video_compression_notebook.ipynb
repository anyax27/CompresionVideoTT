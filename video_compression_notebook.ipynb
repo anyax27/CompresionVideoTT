{
  "cells": [
    {
      "cell_type": "markdown",
      "id": "0bdb24e7",
      "metadata": {
        "id": "0bdb24e7"
      },
      "source": [
        "# 📝 Compresión de video MP4 usando H.264 en Python\n",
        "Este cuaderno permite:\n",
        "- Seleccionar un archivo `.mp4`\n",
        "- Verificar su formato y duración (máximo 30 segundos)\n",
        "- Mostrar sus metadatos\n",
        "- Comprimirlo usando el códec H.264\n",
        "- Medir el tiempo de compresión\n",
        "- Comparar tamaño original y comprimido"
      ]
    },
    {
      "cell_type": "markdown",
      "id": "0dc8a403",
      "metadata": {
        "id": "0dc8a403"
      },
      "source": [
        "## Requisitos\n",
        "- Python 3.x\n",
        "- FFmpeg instalado y agregado a las variables de entorno (PATH)"
      ]
    },
    {
      "cell_type": "markdown",
      "id": "ee8b8a38",
      "metadata": {
        "id": "ee8b8a38"
      },
      "source": [
        "## 📦 Instalación previa de librerías"
      ]
    },
    {
      "cell_type": "code",
      "execution_count": 1,
      "id": "f026b097",
      "metadata": {
        "colab": {
          "base_uri": "https://localhost:8080/"
        },
        "id": "f026b097",
        "outputId": "e99c22fb-472a-466c-99b7-468bb21a527c"
      },
      "outputs": [
        {
          "name": "stdout",
          "output_type": "stream",
          "text": [
            "Requirement already satisfied: numpy in c:\\users\\anyax\\appdata\\local\\programs\\python\\python313\\lib\\site-packages (1.26.4)\n",
            "Note: you may need to restart the kernel to use updated packages.\n"
          ]
        },
        {
          "name": "stderr",
          "output_type": "stream",
          "text": [
            "\n",
            "[notice] A new release of pip is available: 24.3.1 -> 25.1\n",
            "[notice] To update, run: python.exe -m pip install --upgrade pip\n"
          ]
        }
      ],
      "source": [
        "%pip install numpy"
      ]
    },
    {
      "cell_type": "markdown",
      "id": "ca80874c",
      "metadata": {
        "id": "ca80874c"
      },
      "source": [
        "## 🔧 Configuración de parámetros\n",
        "Aquí puedes ajustar los parámetros de compresión."
      ]
    },
    {
      "cell_type": "code",
      "execution_count": 2,
      "id": "bf784c74",
      "metadata": {
        "id": "bf784c74"
      },
      "outputs": [],
      "source": [
        "# Selección de perfil: 'ultra', 'equilibrado', 'rapido'\n",
        "PERFIL_COMPRESION = 'equilibrado'\n",
        "\n",
        "def configurar_parametros(perfil):\n",
        "    if perfil == 'ultra':\n",
        "        return {'preset': 'veryslow', 'crf': '30'}  # Mucha compresión, más lento\n",
        "    elif perfil == 'rapido':\n",
        "        return {'preset': 'ultrafast', 'crf': '23'}  # Menos compresión, muy rápido\n",
        "    else:\n",
        "        return {'preset': 'medium', 'crf': '26'}     # Balanceado\n",
        "\n",
        "# Aplicar configuración\n",
        "parametros = configurar_parametros(PERFIL_COMPRESION)\n",
        "FFMPEG_PRESET = parametros['preset']\n",
        "FFMPEG_CRF = parametros['crf']\n",
        "\n",
        "# Duración máxima permitida (segundos)\n",
        "MAX_DURACION = 30.0"
      ]
    },
    {
      "cell_type": "markdown",
      "id": "f2489b6f",
      "metadata": {
        "id": "f2489b6f"
      },
      "source": [
        "## 📂 Seleccionar archivo MP4"
      ]
    },
    {
      "cell_type": "code",
      "execution_count": 3,
      "id": "5ebe0305",
      "metadata": {
        "id": "5ebe0305"
      },
      "outputs": [],
      "source": [
        "import tkinter as tk\n",
        "from tkinter import filedialog\n",
        "\n",
        "def seleccionar_archivo_mp4():\n",
        "    \"\"\"\n",
        "    Abre diálogo para seleccionar un archivo y devuelve la ruta.\n",
        "    \"\"\"\n",
        "    root = tk.Tk()\n",
        "    root.withdraw()\n",
        "    tipos = [(\"Archivos MP4\", \"*.mp4\"), (\"Todos los archivos\", \"*\")]\n",
        "    ruta = filedialog.askopenfilename(title=\"Seleccione un archivo MP4\", filetypes=tipos)\n",
        "    return ruta"
      ]
    },
    {
      "cell_type": "markdown",
      "id": "fb86c7a6",
      "metadata": {
        "id": "fb86c7a6"
      },
      "source": [
        "## 📑 Obtener metadatos con ffprobe"
      ]
    },
    {
      "cell_type": "code",
      "execution_count": 4,
      "id": "ff297d6e",
      "metadata": {
        "id": "ff297d6e"
      },
      "outputs": [],
      "source": [
        "import subprocess, json, sys, os, mimetypes\n",
        "\n",
        "def obtener_metadatos_ffprobe(ruta):\n",
        "    cmd = [\n",
        "        'ffprobe', '-v', 'error',\n",
        "        '-print_format', 'json',\n",
        "        '-show_format',\n",
        "        '-show_streams',\n",
        "        ruta\n",
        "    ]\n",
        "    try:\n",
        "        resultado = subprocess.run(cmd, capture_output=True, text=True, check=True)\n",
        "    except FileNotFoundError:\n",
        "        print(\"Error: ffprobe no encontrado. Asegúrate de tener FFmpeg instalado y ffprobe en tu PATH.\")\n",
        "        sys.exit(1)\n",
        "    except subprocess.CalledProcessError as e:\n",
        "        print(f\"Error al ejecutar ffprobe: {e.stderr}\")\n",
        "        sys.exit(1)\n",
        "\n",
        "    info = json.loads(resultado.stdout)\n",
        "    fmt = info.get('format', {})\n",
        "    return {\n",
        "        'format_name': fmt.get('format_name', 'desconocido'),\n",
        "        'duration': float(fmt.get('duration', 0.0)),\n",
        "        'size': int(fmt.get('size', 0))\n",
        "    }"
      ]
    },
    {
      "cell_type": "markdown",
      "id": "683fcfdc",
      "metadata": {
        "id": "683fcfdc"
      },
      "source": [
        "## 🎥 Función para comprimir video a H.264"
      ]
    },
    {
      "cell_type": "code",
      "execution_count": 5,
      "id": "3246efbc",
      "metadata": {
        "id": "3246efbc"
      },
      "outputs": [],
      "source": [
        "import sys, subprocess\n",
        "\n",
        "def comprimir_h264(input_path, output_path):\n",
        "    cmd = [\n",
        "        'ffmpeg', '-y',\n",
        "        '-i', input_path,\n",
        "        '-c:v', 'libx264',\n",
        "        '-preset', FFMPEG_PRESET,\n",
        "        '-crf', FFMPEG_CRF,\n",
        "        '-c:a', 'copy',\n",
        "        output_path\n",
        "    ]\n",
        "    try:\n",
        "        subprocess.run(cmd, check=True, capture_output=True, text=True)\n",
        "    except FileNotFoundError:\n",
        "        print(\"Error: ffmpeg no encontrado. Asegúrate de tener FFmpeg instalado y ffmpeg en tu PATH.\")\n",
        "        sys.exit(1)\n",
        "    except subprocess.CalledProcessError as e:\n",
        "        print(f\"Error al comprimir video: {e.stderr}\")\n",
        "        sys.exit(1)"
      ]
    },
    {
      "cell_type": "markdown",
      "id": "3749ebae",
      "metadata": {
        "id": "3749ebae"
      },
      "source": [
        "## 🚀 Ejecutar todo el proceso"
      ]
    },
    {
      "cell_type": "code",
      "execution_count": null,
      "id": "c077f9b0",
      "metadata": {
        "colab": {
          "base_uri": "https://localhost:8080/",
          "height": 335
        },
        "id": "c077f9b0",
        "outputId": "b1c31572-c4d6-4551-f13a-c25d0fa745ae"
      },
      "outputs": [],
      "source": [
        "import time, os, mimetypes\n",
        "\n",
        "def main():\n",
        "    archivo = seleccionar_archivo_mp4()\n",
        "    if not archivo:\n",
        "        print(\"No se seleccionó ningún archivo.\")\n",
        "        return\n",
        "\n",
        "    base, ext = os.path.splitext(archivo)\n",
        "    if ext.lower() != '.mp4':\n",
        "        print(\"Formato incorrecto: debe ser un archivo .mp4.\")\n",
        "        return\n",
        "\n",
        "    datos_orig = obtener_metadatos_ffprobe(archivo)\n",
        "    dur = datos_orig['duration']\n",
        "    if dur > MAX_DURACION:\n",
        "        print(f\"Duración: {dur:.2f}s. Excede el límite de {MAX_DURACION:.0f}s.\")\n",
        "        return\n",
        "\n",
        "    size_orig_mb = datos_orig['size'] / (1024 * 1024)\n",
        "    mime, _ = mimetypes.guess_type(archivo)\n",
        "\n",
        "    print(\"\\n=== Metadatos antes de comprimir ===\")\n",
        "    print(f\"Duración      : {dur:.2f} segundos\")\n",
        "    print(f\"Tamaño        : {size_orig_mb:.2f} MB\")\n",
        "    print(f\"Formato       : {datos_orig['format_name']}\")\n",
        "    print(f\"Tipo MIME     : {mime or 'desconocido'}\")\n",
        "\n",
        "    ruta_salida = f\"{base}_compressed.mp4\"\n",
        "\n",
        "    print(\"\\nComprimiendo video con H.264... Esto puede tardar unos segundos.\")\n",
        "    inicio = time.time()\n",
        "    comprimir_h264(archivo, ruta_salida)\n",
        "    fin = time.time()\n",
        "    tiempo_comp = fin - inicio\n",
        "\n",
        "    datos_comp = obtener_metadatos_ffprobe(ruta_salida)\n",
        "    size_comp_mb = datos_comp['size'] / (1024 * 1024)\n",
        "    reduccion = size_orig_mb - size_comp_mb\n",
        "    porcentaje = (reduccion / size_orig_mb * 100) if size_orig_mb > 0 else 0\n",
        "\n",
        "    print(\"\\n=== Resultado de la compresión ===\")\n",
        "    print(f\"Archivo comprimido: {ruta_salida}\")\n",
        "    print(f\"Tamaño original   : {size_orig_mb:.2f} MB\")\n",
        "    print(f\"Tamaño comprimido : {size_comp_mb:.2f} MB\")\n",
        "    print(f\"Reducción         : {reduccion:.2f} MB ({porcentaje:.1f}%)\")\n",
        "    print(f\"Tiempo compresión : {tiempo_comp:.2f} segundos\")\n",
        "\n",
        "main()"
      ]
    }
  ],
  "metadata": {
    "colab": {
      "provenance": []
    },
    "kernelspec": {
      "display_name": "Python 3",
      "name": "python3"
    },
    "language_info": {
      "name": "python"
    }
  },
  "nbformat": 4,
  "nbformat_minor": 5
}
